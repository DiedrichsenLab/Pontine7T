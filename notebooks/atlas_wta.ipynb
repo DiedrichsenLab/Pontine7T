{
 "cells": [
  {
   "cell_type": "code",
   "execution_count": 13,
   "metadata": {},
   "outputs": [],
   "source": [
    "import nibabel as nb\n",
    "import numpy as np\n",
    "import Functional_Fusion.atlas_map as am\n",
    "import Functional_Fusion.dataset as ds\n",
    "import matplotlib.pyplot as plt\n",
    "import SUITPy as suit \n",
    "import nitools as nt \n",
    "import Functional_Fusion.plot as plot\n",
    "from matplotlib.colors import ListedColormap\n",
    "import pandas as pd\n",
    "import seaborn as sb\n",
    "from scipy import stats\n",
    "base_dir = '/Volumes/diedrichsen_data$/data/FunctionalFusion' \n",
    "atlas_dir = base_dir + '/Atlases/tpl-MNI152NLin2009cSymC'\n",
    "wk_dir = '/Volumes/diedrichsen_data$/data/Cerebellum/Pontine7T/atlases/thalamus'\n"
   ]
  },
  {
   "cell_type": "code",
   "execution_count": 9,
   "metadata": {},
   "outputs": [
    {
     "name": "stdout",
     "output_type": "stream",
     "text": [
      "(32, 25640)\n",
      "(32, 25640)\n"
     ]
    }
   ],
   "source": [
    "all = np.load(f\"{wk_dir}/Prob_thalamus.npy\")\n",
    "mdtb = np.load(f\"{wk_dir}/Prob_thalamus_mdtb_ses1.npy\")  \n",
    "pontine = np.load(f\"{wk_dir}/Prob_thalamus_high-res-mdtb.npy\")\n",
    "lang = np.load(f\"{wk_dir}/Prob_thalamus_language.npy\")\n",
    "mdtb2 = np.load(f\"{wk_dir}/Prob_thalamus_mdtb_ses2.npy\")\n",
    "\n",
    "print(all.shape)\n",
    "print(lang.shape)"
   ]
  },
  {
   "cell_type": "code",
   "execution_count": 3,
   "metadata": {},
   "outputs": [
    {
     "name": "stdout",
     "output_type": "stream",
     "text": [
      "(4, 3934)\n",
      "(4, 3934)\n"
     ]
    }
   ],
   "source": [
    "all = np.load(f\"{wk_dir}/Prob_dentate.npy\")\n",
    "mdtb = np.load(f\"{wk_dir}/Prob_dentate_mdtb(ses1).npy\")  \n",
    "pontine = np.load(f\"{wk_dir}/Prob_dentate_pontine.npy\")\n",
    "lang = np.load(f\"{wk_dir}/Prob_dentate_language.npy\")\n",
    "mdtb2 = np.load(f\"{wk_dir}/Prob_dentate_mdtb(ses2).npy\")\n",
    "\n",
    "all_5 = np.load(f\"{wk_dir}/Prob_dentate_5parcels.npy\")\n",
    "mdtb_5 = np.load(f\"{wk_dir}/Prob_dentate_mdtb(ses1)_5parcels.npy\")  \n",
    "pontine_5 = np.load(f\"{wk_dir}/Prob_dentate_pontine_5parcels.npy\")\n",
    "lang_5 = np.load(f\"{wk_dir}/Prob_dentate_language_5parcels.npy\")\n",
    "mdtb2_5 = np.load(f\"{wk_dir}/Prob_dentate_mdtb(ses2)_5parcels.npy\")\n",
    "\n",
    "\n",
    "print(all_5.shape)\n",
    "print(mdtb_5.shape)\n",
    "\n"
   ]
  },
  {
   "cell_type": "code",
   "execution_count": 14,
   "metadata": {},
   "outputs": [
    {
     "name": "stdout",
     "output_type": "stream",
     "text": [
      "All\n"
     ]
    },
    {
     "ename": "NameError",
     "evalue": "Data needs to be a P vector or NxP matrix",
     "output_type": "error",
     "traceback": [
      "\u001b[0;31m---------------------------------------------------------------------------\u001b[0m",
      "\u001b[0;31mNameError\u001b[0m                                 Traceback (most recent call last)",
      "\u001b[1;32m/Users/incehusain/Documents/GitHub/Pontine7T/notebooks/atlas_wta.ipynb Cell 4\u001b[0m line \u001b[0;36m1\n\u001b[1;32m      <a href='vscode-notebook-cell:/Users/incehusain/Documents/GitHub/Pontine7T/notebooks/atlas_wta.ipynb#W2sZmlsZQ%3D%3D?line=7'>8</a>\u001b[0m wta \u001b[39m=\u001b[39m np\u001b[39m.\u001b[39margmax(pmap, axis\u001b[39m=\u001b[39m\u001b[39m0\u001b[39m) \u001b[39m+\u001b[39m \u001b[39m1\u001b[39m\n\u001b[1;32m      <a href='vscode-notebook-cell:/Users/incehusain/Documents/GitHub/Pontine7T/notebooks/atlas_wta.ipynb#W2sZmlsZQ%3D%3D?line=8'>9</a>\u001b[0m wta_int32 \u001b[39m=\u001b[39m wta\u001b[39m.\u001b[39mastype(np\u001b[39m.\u001b[39mint32)\n\u001b[0;32m---> <a href='vscode-notebook-cell:/Users/incehusain/Documents/GitHub/Pontine7T/notebooks/atlas_wta.ipynb#W2sZmlsZQ%3D%3D?line=9'>10</a>\u001b[0m thalamus_parcellation \u001b[39m=\u001b[39m plot\u001b[39m.\u001b[39;49mplot_thalamus(wta_int32, cscale\u001b[39m=\u001b[39;49m[\u001b[39m0\u001b[39;49m,\u001b[39m32\u001b[39;49m], cmap\u001b[39m=\u001b[39;49mcmap)\n\u001b[1;32m     <a href='vscode-notebook-cell:/Users/incehusain/Documents/GitHub/Pontine7T/notebooks/atlas_wta.ipynb#W2sZmlsZQ%3D%3D?line=10'>11</a>\u001b[0m plt\u001b[39m.\u001b[39mshow()\n",
      "File \u001b[0;32m~/Documents/GitHub/Functional_Fusion/Functional_Fusion/plot.py:193\u001b[0m, in \u001b[0;36mplot_thalamus\u001b[0;34m(data, bg_img, fig, gridspec, z_coords, cscale, cmap, threshold)\u001b[0m\n\u001b[1;32m    190\u001b[0m     bg_img \u001b[39m=\u001b[39m nb\u001b[39m.\u001b[39mload(adir \u001b[39m+\u001b[39m \u001b[39m'\u001b[39m\u001b[39m/tpl-MNI152NLin2009cSym/tpl-MNI152NLin2009cSym_res-1_thalamus.nii\u001b[39m\u001b[39m'\u001b[39m)\n\u001b[1;32m    192\u001b[0m \u001b[39m# Project the functional data into the atlas space\u001b[39;00m\n\u001b[0;32m--> 193\u001b[0m fcn_img \u001b[39m=\u001b[39m dn\u001b[39m.\u001b[39mdata_to_nifti(data)\n\u001b[1;32m    195\u001b[0m \u001b[39m# If cscale is not provided, calculate it from the data: \u001b[39;00m\n\u001b[1;32m    196\u001b[0m \u001b[39mif\u001b[39;00m cscale[\u001b[39m0\u001b[39m] \u001b[39mis\u001b[39;00m \u001b[39mNone\u001b[39;00m:\n",
      "File \u001b[0;32m~/Documents/GitHub/Functional_Fusion/Functional_Fusion/atlas_map.py:341\u001b[0m, in \u001b[0;36mAtlasVolumetric.data_to_nifti\u001b[0;34m(self, data)\u001b[0m\n\u001b[1;32m    339\u001b[0m     \u001b[39mraise\u001b[39;00m(\u001b[39mNameError\u001b[39;00m(\u001b[39m'\u001b[39m\u001b[39mdata needs to be either 1d or 2d\u001b[39m\u001b[39m'\u001b[39m))\n\u001b[1;32m    340\u001b[0m \u001b[39mif\u001b[39;00m p \u001b[39m!=\u001b[39m \u001b[39mself\u001b[39m\u001b[39m.\u001b[39mP:\n\u001b[0;32m--> 341\u001b[0m     \u001b[39mraise\u001b[39;00m (\u001b[39mNameError\u001b[39;00m(\u001b[39m\"\u001b[39m\u001b[39mData needs to be a P vector or NxP matrix\u001b[39m\u001b[39m\"\u001b[39m))\n\u001b[1;32m    342\u001b[0m \u001b[39mif\u001b[39;00m N \u001b[39m>\u001b[39m \u001b[39m1\u001b[39m:\n\u001b[1;32m    343\u001b[0m     X \u001b[39m=\u001b[39m np\u001b[39m.\u001b[39mempty(\u001b[39mself\u001b[39m\u001b[39m.\u001b[39mmask_img\u001b[39m.\u001b[39mshape \u001b[39m+\u001b[39m (N,), dtype\u001b[39m=\u001b[39mdata\u001b[39m.\u001b[39mdtype)\n",
      "\u001b[0;31mNameError\u001b[0m: Data needs to be a P vector or NxP matrix"
     ]
    }
   ],
   "source": [
    "thalamus_maps = [all, mdtb, pontine, lang, mdtb2]\n",
    "titles = ['All', 'MDTB_ses1', 'HighRes_MDTB', 'Language', 'MDTB_ses2']\n",
    "\n",
    "lid,cmap,names = nt.read_lut('/Volumes/diedrichsen_data$/data/FunctionalFusion/Atlases/tpl-MNI152NLin2009cSymC/atl-NettekovenSym32.lut')\n",
    "\n",
    "for i, pmap in enumerate(thalamus_maps):\n",
    "    print(titles[i])\n",
    "    wta = np.argmax(pmap, axis=0) + 1\n",
    "    wta_int32 = wta.astype(np.int32)\n",
    "    thalamus_parcellation = plot.plot_thalamus(wta_int32, cscale=[0,32], cmap=cmap)\n",
    "    plt.show()\n",
    "\n"
   ]
  },
  {
   "cell_type": "code",
   "execution_count": 5,
   "metadata": {},
   "outputs": [
    {
     "name": "stdout",
     "output_type": "stream",
     "text": [
      "All\n"
     ]
    },
    {
     "data": {
      "image/png": "[encoded data removed]",
      "text/plain": [
       "<Figure size 200x1000 with 24 Axes>"
      ]
     },
     "metadata": {},
     "output_type": "display_data"
    },
    {
     "name": "stdout",
     "output_type": "stream",
     "text": [
      "MDTB_ses1\n"
     ]
    },
    {
     "data": {
      "image/png": "[encoded data removed]",
      "text/plain": [
       "<Figure size 200x1000 with 24 Axes>"
      ]
     },
     "metadata": {},
     "output_type": "display_data"
    },
    {
     "name": "stdout",
     "output_type": "stream",
     "text": [
      "Pontine7T\n"
     ]
    },
    {
     "data": {
      "image/png": "[encoded data removed]",
      "text/plain": [
       "<Figure size 200x1000 with 24 Axes>"
      ]
     },
     "metadata": {},
     "output_type": "display_data"
    },
    {
     "name": "stdout",
     "output_type": "stream",
     "text": [
      "Language\n"
     ]
    },
    {
     "data": {
      "image/png": "[encoded data removed]",
      "text/plain": [
       "<Figure size 200x1000 with 24 Axes>"
      ]
     },
     "metadata": {},
     "output_type": "display_data"
    },
    {
     "name": "stdout",
     "output_type": "stream",
     "text": [
      "MDTB_ses2\n"
     ]
    },
    {
     "data": {
      "image/png": "[encoded data removed]",
      "text/plain": [
       "<Figure size 200x1000 with 24 Axes>"
      ]
     },
     "metadata": {},
     "output_type": "display_data"
    }
   ],
   "source": [
    "#5 regions amalgamation\n",
    "\n",
    "dentate_maps = [all_5, mdtb_5, pontine_5, lang_5, mdtb2_5]\n",
    "titles = ['All', 'MDTB_ses1', 'Pontine7T', 'Language', 'MDTB_ses2']\n",
    "\n",
    "lid,cmap,roi_names = nt.read_lut('/Volumes/diedrichsen_data$/data/FunctionalFusion/Atlases/tpl-MNI152NLin2009cSymC/atl-NettekovenSym32.lut')\n",
    "\n",
    "new_labels = ['0','M','A','D','S'] \n",
    "\n",
    "\n",
    "for i, pmap in enumerate(dentate_maps):\n",
    "    print(titles[i])\n",
    "    new_cmap = cmap[[0,3,6,8,13],:]\n",
    "    wta = np.argmax(pmap, axis=0) \n",
    "    wta += 1\n",
    "    wta_int32 = wta.astype(np.int32)\n",
    "    dentate_parcellation = plot.plot_dentate(wta_int32,cscale=[0,5],cmap=new_cmap)\n",
    "    plt.show()\n",
    "\n",
    "#0, M (3: blue), A (6: dark blue), D (8: maroon), S (13: yellow)\n",
    "\n"
   ]
  }
 ],
 "metadata": {
  "kernelspec": {
   "display_name": "env",
   "language": "python",
   "name": "python3"
  },
  "language_info": {
   "codemirror_mode": {
    "name": "ipython",
    "version": 3
   },
   "file_extension": ".py",
   "mimetype": "text/x-python",
   "name": "python",
   "nbconvert_exporter": "python",
   "pygments_lexer": "ipython3",
   "version": "3.9.6"
  }
 },
 "nbformat": 4,
 "nbformat_minor": 2
}
