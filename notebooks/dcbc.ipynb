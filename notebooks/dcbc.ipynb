{
 "cells": [
  {
   "cell_type": "code",
   "execution_count": 2,
   "metadata": {},
   "outputs": [],
   "source": [
    "import numpy as np\n",
    "import scipy as sp \n",
    "from DCBC.dcbc import compute_DCBC \n",
    "import DCBC.utilities as ut\n",
    "import Functional_Fusion.atlas_map as am\n",
    "import pandas as pd"
   ]
  },
  {
   "cell_type": "code",
   "execution_count": 4,
   "metadata": {},
   "outputs": [
    {
     "name": "stdout",
     "output_type": "stream",
     "text": [
      "(25640, 3)\n",
      "(25640, 25640)\n"
     ]
    }
   ],
   "source": [
    "atlas, _ = am.get_atlas('MNISymThalamus1')\n",
    "\n",
    "coords = atlas.world.T #Nx3 shaoe\n",
    "\n",
    "print(coords.shape)\n",
    "\n",
    "dist = ut.compute_dist(coords,1.5, backend='numpy')\n",
    "\n",
    "print(dist.shape)\n",
    "\n"
   ]
  },
  {
   "cell_type": "code",
   "execution_count": null,
   "metadata": {},
   "outputs": [],
   "source": [
    "#loading data \n",
    "#MDTB - {s}_space-{atlas.name}_ses-s1_CondRun.dscalar.nii\n",
    "#Language - {s}_space-{atlas.name}_ses-localizerfm_CondRun.dscalar.nii\n",
    "#MDTB-high-res - {s}_space-{atlas.name}_ses-s1_CondRun.dscalar.nii\n",
    "\n",
    "data_dir = '/Volumes/diedrichsen_data$/data/FunctionalFusion_new/Social'\n",
    "\n",
    "# Read the participant tsv file to get the name of the available subjects\n",
    "subj_info = pd.read_csv(f'{data_dir}/participants.tsv',sep='\\t')\n",
    "#subj_info = subj_info[subj_info['participant_id'] != 'sub-12']\n",
    "\n",
    "\n",
    "data = []\n",
    "# Read the data for each subject\n",
    "for i, s in enumerate(subj_info['participant_id']):\n",
    "        file_name = f'{data_dir}/derivatives/ffextract/{s}/{s}_space-{atlas.name}_ses-s1_CondRun.dscalar.nii'\n",
    "        datafile = nb.load(file_name)\n",
    "        data.append(datafile.get_fdata())\n",
    "# make the numsubj x numcond (16 repetitions x 9 conditions) x numvoxel tensor\n",
    "data = np.stack(data)\n",
    "data.shape\n",
    "\n",
    "np.save(f\"{wk_dir}/indiv_parcellations/MDTB-ses1/MDTB_ses1_data.npy\", data)"
   ]
  },
  {
   "cell_type": "code",
   "execution_count": 15,
   "metadata": {},
   "outputs": [],
   "source": [
    "base_dir = \"/Volumes/diedrichsen_data$/data/Cerebellum/Pontine7T/atlases/thalamus\"\n",
    "\n",
    "parcellation = np.load(f\"{base_dir}/Prob_thalamus.npy\")\n",
    "\n",
    "#shape is (32, 25640)\n",
    "\n",
    "func = np.load(f\"{base_dir}/indiv_parcellations/MDTB-ses1/MDTB_ses2_data.npy\")\n",
    "\n"
   ]
  },
  {
   "cell_type": "code",
   "execution_count": 22,
   "metadata": {},
   "outputs": [
    {
     "data": {
      "text/plain": [
       "(32, 25640)"
      ]
     },
     "execution_count": 22,
     "metadata": {},
     "output_type": "execute_result"
    }
   ],
   "source": [
    "func[0].T.shape\n",
    "\n",
    "parcellation.shape"
   ]
  },
  {
   "cell_type": "code",
   "execution_count": 29,
   "metadata": {},
   "outputs": [
    {
     "name": "stdout",
     "output_type": "stream",
     "text": [
      "(25640,)\n"
     ]
    },
    {
     "data": {
      "text/plain": [
       "16"
      ]
     },
     "execution_count": 29,
     "metadata": {},
     "output_type": "execute_result"
    }
   ],
   "source": [
    "func.shape\n",
    "\n",
    "parcellation = np.load(f\"{base_dir}/Prob_thalamus.npy\")\n",
    "\n",
    "comb_hemispheres = parcellation[0:16] + parcellation[16:32]\n",
    "\n",
    "wta = np.argmax(comb_hemispheres, axis=0) + 1\n",
    "\n",
    "wta_int32 = wta.astype(np.int32)\n",
    "\n",
    "print(wta_int32.shape)\n",
    "\n",
    "np.nanmax(wta_int32)"
   ]
  },
  {
   "cell_type": "code",
   "execution_count": 30,
   "metadata": {},
   "outputs": [
    {
     "name": "stdout",
     "output_type": "stream",
     "text": [
      "Subject 1...\n",
      "Subject 2...\n",
      "Subject 3...\n",
      "Subject 4...\n",
      "Subject 5...\n",
      "Subject 6...\n",
      "Subject 7...\n",
      "Subject 8...\n",
      "Subject 9...\n",
      "Subject 10...\n",
      "Subject 11...\n",
      "Subject 12...\n",
      "Subject 13...\n",
      "Subject 14...\n",
      "Subject 15...\n",
      "Subject 16...\n",
      "Subject 17...\n",
      "Subject 18...\n",
      "Subject 19...\n",
      "Subject 20...\n",
      "Subject 21...\n",
      "Subject 22...\n",
      "Subject 23...\n",
      "Subject 24...\n"
     ]
    }
   ],
   "source": [
    "wcorr_array, bcorr_array, dcbc_array = np.array([]), np.array([]), np.array([])\n",
    "\n",
    "for sub in range(func.shape[0]):\n",
    "    print(f\"Subject {sub+1}...\")\n",
    "\n",
    "    data = func[sub].T\n",
    "\n",
    "    R = compute_DCBC(maxDist=60, binWidth=1.5, parcellation=wta_int32,\n",
    "                    func=data, dist=dist, weighting=True, backend='numpy')\n",
    "    \n",
    "    wcorr_array = np.append(wcorr_array, R['corr_within'])\n",
    "    bcorr_array = np.append(bcorr_array, R['corr_between'])\n",
    "    dcbc_array = np.append(dcbc_array, R['DCBC'])\n",
    "\n",
    "\n",
    "\n"
   ]
  },
  {
   "cell_type": "code",
   "execution_count": 31,
   "metadata": {},
   "outputs": [
    {
     "data": {
      "image/png": "[encoded data removed]",
      "text/plain": [
       "<Figure size 640x480 with 1 Axes>"
      ]
     },
     "metadata": {},
     "output_type": "display_data"
    },
    {
     "name": "stdout",
     "output_type": "stream",
     "text": [
      "[0.04813801 0.02984719 0.01881444 0.01523087 0.02573842 0.01532947\n",
      " 0.01360031 0.02708958 0.01861435 0.0190033  0.03489901 0.02582492\n",
      " 0.03670491 0.03190948 0.01869279 0.022241   0.00893105 0.01404852\n",
      " 0.02852477 0.03465574 0.03273843 0.01911805 0.01504702 0.01928397]\n"
     ]
    }
   ],
   "source": [
    "returnsubj = [1,2,3,4,5,6,7,8,9,10,11,12,13,14,15,16,17,18,19,20,21,22,23,24]\n",
    "\n",
    "ut.plot_single(within=wcorr_array, between=bcorr_array, maxDist=60, binWidth=1.5,\n",
    "               \n",
    "                subjects=returnsubj, within_color='k', between_color='r')\n",
    "\n",
    "print(dcbc_array)"
   ]
  },
  {
   "cell_type": "code",
   "execution_count": 59,
   "metadata": {},
   "outputs": [
    {
     "name": "stdout",
     "output_type": "stream",
     "text": [
      "[ 4.74341649  6.18465844  7.64852927 ... 88.60163655 88.74119675\n",
      " 88.90584908]\n",
      "Number of NaNs in dist: 0\n",
      "Proportion of NaNs: 0.000000\n"
     ]
    }
   ],
   "source": [
    "print(dist[6])\n",
    "\n",
    "n_nans = np.isnan(dist).sum()\n",
    "\n",
    "print(\"Number of NaNs in dist:\", n_nans)\n",
    "\n",
    "prop_nans = np.isnan(dist).mean()\n",
    "print(f\"Proportion of NaNs: {prop_nans:.6f}\")"
   ]
  },
  {
   "cell_type": "code",
   "execution_count": null,
   "metadata": {},
   "outputs": [],
   "source": []
  }
 ],
 "metadata": {
  "kernelspec": {
   "display_name": "env",
   "language": "python",
   "name": "python3"
  },
  "language_info": {
   "codemirror_mode": {
    "name": "ipython",
    "version": 3
   },
   "file_extension": ".py",
   "mimetype": "text/x-python",
   "name": "python",
   "nbconvert_exporter": "python",
   "pygments_lexer": "ipython3",
   "version": "3.9.6"
  }
 },
 "nbformat": 4,
 "nbformat_minor": 2
}
