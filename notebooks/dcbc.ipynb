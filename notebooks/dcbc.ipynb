{
 "cells": [
  {
   "cell_type": "code",
   "execution_count": 2,
   "metadata": {},
   "outputs": [],
   "source": [
    "import numpy as np\n",
    "import scipy as sp \n",
    "from DCBC.dcbc import compute_DCBC \n",
    "import DCBC.utilities as ut\n",
    "import Functional_Fusion.atlas_map as am\n",
    "import pandas as pd"
   ]
  },
  {
   "cell_type": "code",
   "execution_count": 98,
   "metadata": {},
   "outputs": [
    {
     "name": "stdout",
     "output_type": "stream",
     "text": [
      "(25640, 3)\n",
      "[[-29. -29.   4.]\n",
      " [-29. -29.   5.]\n",
      " [-29. -29.   6.]\n",
      " ...\n",
      " [ 29. -18.   6.]\n",
      " [ 29. -18.   7.]\n",
      " [ 29. -18.   8.]]\n",
      "Max left distance: 57.97844427026307\n",
      "Max right distance: 57.97844427026307\n"
     ]
    }
   ],
   "source": [
    "atlas, _ = am.get_atlas('MNISymThalamus1')\n",
    "\n",
    "coords = atlas.world.T #Nx3 shaoe\n",
    "\n",
    "print(coords.shape)\n",
    "\n",
    "print(coords) #left x coordinates are positive, right coordinates are negative\n",
    "\n",
    "left_idx = np.where(coords[:, 0] < 0)[0]\n",
    "right_idx = np.where(coords[:, 0] > 0)[0]\n",
    "\n",
    "# extract coordinates\n",
    "coord_left = coords[left_idx]\n",
    "coord_right = coords[right_idx]\n",
    "\n",
    "#print(f\"Left hemisphere voxels: {len(coord_left)}\")\n",
    "#print(f\"Right hemisphere voxels: {len(coord_right)}\")\n",
    "\n",
    "#print(\"left\", coord_left)\n",
    "#print(\"right\", coord_right)\n",
    "\n",
    "dist = ut.compute_dist(coords,1.5, backend='numpy')\n",
    "\n",
    "dist_left = ut.compute_dist(coord_left,1.5, backend='numpy')\n",
    "dist_right = ut.compute_dist(coord_right,1.5, backend='numpy')\n",
    "\n",
    "max_left = np.max(dist_left)\n",
    "max_right = np.max(dist_right)  \n",
    "\n",
    "print(f\"Max left distance: {max_left}\")\n",
    "print(f\"Max right distance: {max_right}\")   \n"
   ]
  },
  {
   "cell_type": "code",
   "execution_count": 102,
   "metadata": {},
   "outputs": [
    {
     "data": {
      "text/plain": [
       "89.1711836862111"
      ]
     },
     "execution_count": 102,
     "metadata": {},
     "output_type": "execute_result"
    }
   ],
   "source": [
    "np.max(dist)"
   ]
  },
  {
   "cell_type": "code",
   "execution_count": null,
   "metadata": {},
   "outputs": [],
   "source": [
    "#loading data \n",
    "#MDTB - {s}_space-{atlas.name}_ses-s1_CondRun.dscalar.nii\n",
    "#Language - {s}_space-{atlas.name}_ses-localizerfm_CondRun.dscalar.nii\n",
    "#MDTB-high-res - {s}_space-{atlas.name}_ses-s1_CondRun.dscalar.nii\n",
    "\n",
    "data_dir = '/Volumes/diedrichsen_data$/data/FunctionalFusion_new/Social'\n",
    "\n",
    "# Read the participant tsv file to get the name of the available subjects\n",
    "subj_info = pd.read_csv(f'{data_dir}/participants.tsv',sep='\\t')\n",
    "#subj_info = subj_info[subj_info['participant_id'] != 'sub-12']\n",
    "\n",
    "\n",
    "data = []\n",
    "# Read the data for each subject\n",
    "for i, s in enumerate(subj_info['participant_id']):\n",
    "        file_name = f'{data_dir}/derivatives/ffextract/{s}/{s}_space-{atlas.name}_ses-s1_CondRun.dscalar.nii'\n",
    "        datafile = nb.load(file_name)\n",
    "        data.append(datafile.get_fdata())\n",
    "# make the numsubj x numcond (16 repetitions x 9 conditions) x numvoxel tensor\n",
    "data = np.stack(data)\n",
    "data.shape\n",
    "\n",
    "np.save(f\"{wk_dir}/indiv_parcellations/MDTB-ses1/MDTB_ses1_data.npy\", data)"
   ]
  },
  {
   "cell_type": "code",
   "execution_count": 14,
   "metadata": {},
   "outputs": [],
   "source": [
    "base_dir = \"/Volumes/diedrichsen_data$/data/Cerebellum/Pontine7T/atlases/thalamus\"\n",
    "\n",
    "parcellation = np.load(f\"{base_dir}/Prob_thalamus.npy\")\n",
    "\n",
    "#shape is (32, 25640)\n",
    "\n",
    "func = np.load(f\"{base_dir}/indiv_parcellations/MDTB-ses2/MDTB_ses2_data.npy\")\n",
    "\n"
   ]
  },
  {
   "cell_type": "code",
   "execution_count": 15,
   "metadata": {},
   "outputs": [
    {
     "data": {
      "text/plain": [
       "(32, 25640)"
      ]
     },
     "execution_count": 15,
     "metadata": {},
     "output_type": "execute_result"
    }
   ],
   "source": [
    "func[0].T.shape\n",
    "\n",
    "parcellation.shape"
   ]
  },
  {
   "cell_type": "code",
   "execution_count": 16,
   "metadata": {},
   "outputs": [
    {
     "name": "stdout",
     "output_type": "stream",
     "text": [
      "(25640,)\n"
     ]
    },
    {
     "data": {
      "text/plain": [
       "16"
      ]
     },
     "execution_count": 16,
     "metadata": {},
     "output_type": "execute_result"
    }
   ],
   "source": [
    "func.shape\n",
    "\n",
    "parcellation = np.load(f\"{base_dir}/Prob_thalamus.npy\")\n",
    "\n",
    "comb_hemispheres = parcellation[0:16] + parcellation[16:32]\n",
    "\n",
    "wta = np.argmax(comb_hemispheres, axis=0) + 1\n",
    "\n",
    "wta_int32 = wta.astype(np.int32)\n",
    "\n",
    "print(wta_int32.shape)\n",
    "\n",
    "np.nanmax(wta_int32)"
   ]
  },
  {
   "cell_type": "code",
   "execution_count": 18,
   "metadata": {},
   "outputs": [
    {
     "name": "stdout",
     "output_type": "stream",
     "text": [
      "Subject 1...\n",
      "Subject 2...\n",
      "Subject 3...\n",
      "Subject 4...\n",
      "Subject 5...\n",
      "Subject 6...\n",
      "Subject 7...\n",
      "Subject 8...\n",
      "Subject 9...\n",
      "Subject 10...\n",
      "Subject 11...\n",
      "Subject 12...\n",
      "Subject 13...\n",
      "Subject 14...\n",
      "Subject 15...\n",
      "Subject 16...\n",
      "Subject 17...\n",
      "Subject 18...\n",
      "Subject 19...\n",
      "Subject 20...\n",
      "Subject 21...\n",
      "Subject 22...\n",
      "Subject 23...\n",
      "Subject 24...\n"
     ]
    }
   ],
   "source": [
    "wcorr_array, bcorr_array, dcbc_array, num_between, num_within = np.array([]), np.array([]), np.array([]), np.array([]), np.array([])\n",
    "\n",
    "for sub in range(func.shape[0]):\n",
    "    print(f\"Subject {sub+1}...\")\n",
    "\n",
    "    data = func[sub].T\n",
    "\n",
    "    R = compute_DCBC(maxDist=120, binWidth=1.5, parcellation=wta_int32,\n",
    "                    func=data, dist=dist_left, weighting=True, backend='numpy')\n",
    "    \n",
    "    wcorr_array = np.append(wcorr_array, R['corr_within'])\n",
    "    bcorr_array = np.append(bcorr_array, R['corr_between'])\n",
    "    dcbc_array = np.append(dcbc_array, R['DCBC'])\n",
    "    num_between = np.append(num_between, R['num_between'])\n",
    "    num_within = np.append(num_within, R['num_within'])\n",
    "\n"
   ]
  },
  {
   "cell_type": "code",
   "execution_count": 103,
   "metadata": {},
   "outputs": [
    {
     "name": "stdout",
     "output_type": "stream",
     "text": [
      "Subject 1...\n",
      "Subject 2...\n",
      "Subject 3...\n",
      "Subject 4...\n",
      "Subject 5...\n",
      "Subject 6...\n",
      "Subject 7...\n",
      "Subject 8...\n",
      "Subject 9...\n",
      "Subject 10...\n",
      "Subject 11...\n",
      "Subject 12...\n",
      "Subject 13...\n",
      "Subject 14...\n",
      "Subject 15...\n",
      "Subject 16...\n",
      "Subject 17...\n",
      "Subject 18...\n",
      "Subject 19...\n",
      "Subject 20...\n",
      "Subject 21...\n",
      "Subject 22...\n",
      "Subject 23...\n",
      "Subject 24...\n"
     ]
    }
   ],
   "source": [
    "wcorr_array, bcorr_array, dcbc_array, num_between, num_within = np.array([]), np.array([]), np.array([]), np.array([]), np.array([])\n",
    "\n",
    "for sub in range(func.shape[0]):\n",
    "    print(f\"Subject {sub+1}...\")\n",
    "\n",
    "    data = func[sub].T\n",
    "\n",
    "    R_right = compute_DCBC(maxDist=90, binWidth=1.5, parcellation=wta_int32,\n",
    "                    func=data, dist=dist_right, weighting=True, backend='numpy')\n",
    "    \n",
    "    wcorr_array = np.append(wcorr_array, R_right['corr_within'])\n",
    "    bcorr_array = np.append(bcorr_array, R_right['corr_between'])\n",
    "    dcbc_array = np.append(dcbc_array, R_right['DCBC'])\n",
    "    num_between = np.append(num_between, R_right['num_between'])\n",
    "    num_within = np.append(num_within, R_right['num_within'])\n",
    "\n",
    "\n",
    "\n"
   ]
  },
  {
   "cell_type": "code",
   "execution_count": 108,
   "metadata": {},
   "outputs": [
    {
     "name": "stdout",
     "output_type": "stream",
     "text": [
      "Subject 1...\n",
      "Subject 2...\n",
      "Subject 3...\n",
      "Subject 4...\n",
      "Subject 5...\n",
      "Subject 6...\n",
      "Subject 7...\n",
      "Subject 8...\n",
      "Subject 9...\n",
      "Subject 10...\n",
      "Subject 11...\n",
      "Subject 12...\n",
      "Subject 13...\n",
      "Subject 14...\n",
      "Subject 15...\n",
      "Subject 16...\n",
      "Subject 17...\n",
      "Subject 18...\n",
      "Subject 19...\n",
      "Subject 20...\n",
      "Subject 21...\n",
      "Subject 22...\n",
      "Subject 23...\n",
      "Subject 24...\n"
     ]
    }
   ],
   "source": [
    "wcorr_array, bcorr_array, dcbc_array, num_between, num_within = np.array([]), np.array([]), np.array([]), np.array([]), np.array([])\n",
    "\n",
    "for sub in range(func.shape[0]):\n",
    "    print(f\"Subject {sub+1}...\")\n",
    "\n",
    "    data = func[sub].T\n",
    "\n",
    "    R = compute_DCBC(maxDist=100, binWidth=1.5, parcellation=wta_int32,\n",
    "                    func=data, dist=dist, weighting=True, backend='numpy')\n",
    "    \n",
    "    wcorr_array = np.append(wcorr_array, R['corr_within'])\n",
    "    bcorr_array = np.append(bcorr_array, R['corr_between'])\n",
    "    dcbc_array = np.append(dcbc_array, R['DCBC'])\n",
    "    num_between = np.append(num_between, R['num_between'])\n",
    "    num_within = np.append(num_within, R['num_within'])\n",
    "\n",
    "\n",
    "\n"
   ]
  },
  {
   "cell_type": "code",
   "execution_count": 114,
   "metadata": {},
   "outputs": [
    {
     "name": "stdout",
     "output_type": "stream",
     "text": [
      "[0.03888966 0.0375453  0.02299746 0.01366918 0.02278651 0.01506133\n",
      " 0.01230745 0.02412089 0.02630519 0.0186082  0.02610121 0.02881636\n",
      " 0.02803812 0.04881473 0.01906517 0.02057142 0.0140293  0.02057381\n",
      " 0.03850559 0.02504387 0.02107078 0.02639446 0.01712    0.01303795]\n",
      "(1584,)\n",
      "(1584,)\n"
     ]
    }
   ],
   "source": [
    "print(dcbc_array)\n",
    "print(num_between.shape)\n",
    "print(num_within.shape)"
   ]
  },
  {
   "cell_type": "code",
   "execution_count": 115,
   "metadata": {},
   "outputs": [
    {
     "data": {
      "image/png": "[encoded data removed]",
      "text/plain": [
       "<Figure size 640x480 with 1 Axes>"
      ]
     },
     "metadata": {},
     "output_type": "display_data"
    },
    {
     "name": "stdout",
     "output_type": "stream",
     "text": [
      "[0.03888966 0.0375453  0.02299746 0.01366918 0.02278651 0.01506133\n",
      " 0.01230745 0.02412089 0.02630519 0.0186082  0.02610121 0.02881636\n",
      " 0.02803812 0.04881473 0.01906517 0.02057142 0.0140293  0.02057381\n",
      " 0.03850559 0.02504387 0.02107078 0.02639446 0.01712    0.01303795]\n",
      "[  44608.  254850. 1050990. ...       0.       0.       0.]\n",
      "[101060. 350390. 921222. ...      0.      0.      0.]\n"
     ]
    }
   ],
   "source": [
    "returnsubj = [1,2,3,4,5,6,7,8,9,10,11,12,13,14,15,16,17,18,19,20,21,22,23,24]\n",
    "\n",
    "ut.plot_single(within=wcorr_array, between=bcorr_array, maxDist=99, binWidth=1.5,\n",
    "               \n",
    "                subjects=returnsubj, within_color='k', between_color='r')\n",
    "\n",
    "print(dcbc_array)\n",
    "print(num_between)\n",
    "print(num_within)"
   ]
  },
  {
   "cell_type": "code",
   "execution_count": 106,
   "metadata": {},
   "outputs": [
    {
     "name": "stdout",
     "output_type": "stream",
     "text": [
      "37264.0\n",
      "(1440,)\n"
     ]
    }
   ],
   "source": [
    "print(num_between[0])\n",
    "print(num_within.shape)"
   ]
  },
  {
   "cell_type": "code",
   "execution_count": 116,
   "metadata": {},
   "outputs": [
    {
     "name": "stdout",
     "output_type": "stream",
     "text": [
      "[4.4608000e+04 2.5485000e+05 1.0509900e+06 1.6711320e+06 3.2908300e+06\n",
      " 5.2008060e+06 6.1174020e+06 8.2527320e+06 1.0952340e+07 1.1778928e+07\n",
      " 1.4095382e+07 1.4673162e+07 1.7198056e+07 1.8136084e+07 1.8416890e+07\n",
      " 1.8446870e+07 1.9149298e+07 1.9630640e+07 1.8842722e+07 1.8328436e+07\n",
      " 1.8582490e+07 1.6367134e+07 1.6368286e+07 1.5268052e+07 1.4525618e+07\n",
      " 1.4420676e+07 1.4112146e+07 1.3459756e+07 1.3280338e+07 1.3798490e+07\n",
      " 1.3331432e+07 1.3739762e+07 1.4042032e+07 1.3625434e+07 1.3793636e+07\n",
      " 1.3417962e+07 1.3303348e+07 1.2782308e+07 1.2446150e+07 1.1387146e+07\n",
      " 1.0777946e+07 9.7958140e+06 8.7067320e+06 7.6922920e+06 6.7360800e+06\n",
      " 5.5876180e+06 4.6859900e+06 3.8626600e+06 3.0974240e+06 2.4565240e+06\n",
      " 1.9111760e+06 1.3697140e+06 1.0098900e+06 6.9256200e+05 4.5524400e+05\n",
      " 2.7395000e+05 1.4940400e+05 6.5010000e+04 1.8090000e+04 2.7400000e+02\n",
      " 0.0000000e+00 0.0000000e+00 0.0000000e+00 0.0000000e+00 0.0000000e+00\n",
      " 0.0000000e+00]\n"
     ]
    },
    {
     "data": {
      "image/png": "[encoded data removed]",
      "text/plain": [
       "<Figure size 1000x500 with 1 Axes>"
      ]
     },
     "metadata": {},
     "output_type": "display_data"
    }
   ],
   "source": [
    "import numpy as np\n",
    "import matplotlib.pyplot as plt\n",
    "\n",
    "bins_per_subject = 66\n",
    "bin_edges = np.arange(1, bins_per_subject + 1) * 1.5  # assuming binWidth=1.5\n",
    "\n",
    "# Hardcode correct slices for first two subjects\n",
    "num_within_sub1 = num_within[0:66]\n",
    "num_between_sub1 = num_between[0:66]\n",
    "\n",
    "num_within_sub2 = num_within[61:120]\n",
    "num_between_sub2 = num_between[61:120]\n",
    "\n",
    "print(num_between_sub1)\n",
    "\n",
    "\n",
    "plt.figure(figsize=(10,5))\n",
    "plt.bar(bin_edges, num_within_sub1, width=1.2, color='blue', alpha=0.6, label='within')\n",
    "plt.bar(bin_edges, num_between_sub1, width=1.2, color='red', alpha=0.6, label='between', bottom=num_within_sub1)\n",
    "plt.xlabel('Distance bin (mm)')\n",
    "plt.ylabel('Number of voxel pairs')\n",
    "plt.title(f'Within vs Between voxel pairs')\n",
    "plt.legend()\n",
    "plt.show()\n"
   ]
  },
  {
   "cell_type": "code",
   "execution_count": 59,
   "metadata": {},
   "outputs": [
    {
     "name": "stdout",
     "output_type": "stream",
     "text": [
      "[ 4.74341649  6.18465844  7.64852927 ... 88.60163655 88.74119675\n",
      " 88.90584908]\n",
      "Number of NaNs in dist: 0\n",
      "Proportion of NaNs: 0.000000\n"
     ]
    }
   ],
   "source": [
    "print(dist[6])\n",
    "\n",
    "n_nans = np.isnan(dist).sum()\n",
    "\n",
    "print(\"Number of NaNs in dist:\", n_nans)\n",
    "\n",
    "prop_nans = np.isnan(dist).mean()\n",
    "print(f\"Proportion of NaNs: {prop_nans:.6f}\")"
   ]
  },
  {
   "cell_type": "code",
   "execution_count": null,
   "metadata": {},
   "outputs": [],
   "source": []
  }
 ],
 "metadata": {
  "kernelspec": {
   "display_name": "env",
   "language": "python",
   "name": "python3"
  },
  "language_info": {
   "codemirror_mode": {
    "name": "ipython",
    "version": 3
   },
   "file_extension": ".py",
   "mimetype": "text/x-python",
   "name": "python",
   "nbconvert_exporter": "python",
   "pygments_lexer": "ipython3",
   "version": "3.9.6"
  }
 },
 "nbformat": 4,
 "nbformat_minor": 2
}
