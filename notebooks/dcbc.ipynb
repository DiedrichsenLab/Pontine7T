{
 "cells": [
  {
   "cell_type": "code",
   "execution_count": 13,
   "metadata": {},
   "outputs": [],
   "source": [
    "import numpy as np\n",
    "import scipy as sp \n",
    "from DCBC.dcbc import compute_DCBC_np \n",
    "import DCBC.utilities as ut\n",
    "import Functional_Fusion.atlas_map as am"
   ]
  },
  {
   "cell_type": "code",
   "execution_count": 12,
   "metadata": {},
   "outputs": [
    {
     "ename": "ValueError",
     "evalue": "einstein sum subscripts string contains too many subscripts for operand 0",
     "output_type": "error",
     "traceback": [
      "\u001b[0;31m---------------------------------------------------------------------------\u001b[0m",
      "\u001b[0;31mValueError\u001b[0m                                Traceback (most recent call last)",
      "\u001b[1;32m/Users/incehusain/Documents/GitHub/Pontine7T/notebooks/dcbc.ipynb Cell 2\u001b[0m line \u001b[0;36m4\n\u001b[1;32m      <a href='vscode-notebook-cell:/Users/incehusain/Documents/GitHub/Pontine7T/notebooks/dcbc.ipynb#W1sZmlsZQ%3D%3D?line=0'>1</a>\u001b[0m a \u001b[39m=\u001b[39m \u001b[39m5\u001b[39m\n\u001b[1;32m      <a href='vscode-notebook-cell:/Users/incehusain/Documents/GitHub/Pontine7T/notebooks/dcbc.ipynb#W1sZmlsZQ%3D%3D?line=1'>2</a>\u001b[0m b \u001b[39m=\u001b[39m \u001b[39m3\u001b[39m\n\u001b[0;32m----> <a href='vscode-notebook-cell:/Users/incehusain/Documents/GitHub/Pontine7T/notebooks/dcbc.ipynb#W1sZmlsZQ%3D%3D?line=3'>4</a>\u001b[0m dist \u001b[39m=\u001b[39m ut\u001b[39m.\u001b[39;49meuclidean_distance(a,b,decimals\u001b[39m=\u001b[39;49m\u001b[39m3\u001b[39;49m)\n\u001b[1;32m      <a href='vscode-notebook-cell:/Users/incehusain/Documents/GitHub/Pontine7T/notebooks/dcbc.ipynb#W1sZmlsZQ%3D%3D?line=5'>6</a>\u001b[0m dcbc_values \u001b[39m=\u001b[39m compute_DCBC_np(maxDist\u001b[39m=\u001b[39m\u001b[39m35\u001b[39m, binWidth\u001b[39m=\u001b[39m\u001b[39m1\u001b[39m, parcellation\u001b[39m=\u001b[39mnp\u001b[39m.\u001b[39mempty([]),\n\u001b[1;32m      <a href='vscode-notebook-cell:/Users/incehusain/Documents/GitHub/Pontine7T/notebooks/dcbc.ipynb#W1sZmlsZQ%3D%3D?line=6'>7</a>\u001b[0m                     func\u001b[39m=\u001b[39m\u001b[39mNone\u001b[39;00m, dist\u001b[39m=\u001b[39m\u001b[39mNone\u001b[39;00m, weighting\u001b[39m=\u001b[39m\u001b[39mTrue\u001b[39;00m)\n",
      "File \u001b[0;32m~/Documents/GitHub/DCBC/utilities.py:92\u001b[0m, in \u001b[0;36meuclidean_distance\u001b[0;34m(a, b, decimals)\u001b[0m\n\u001b[1;32m     76\u001b[0m \u001b[39mdef\u001b[39;00m \u001b[39meuclidean_distance\u001b[39m(a, b, decimals\u001b[39m=\u001b[39m\u001b[39m3\u001b[39m):\n\u001b[1;32m     77\u001b[0m \u001b[39m    \u001b[39m\u001b[39m\"\"\" Compute euclidean similarity between samples in a and b.\u001b[39;00m\n\u001b[1;32m     78\u001b[0m \u001b[39m        K(X, Y) = <X, Y> / (||X||*||Y||)\u001b[39;00m\n\u001b[1;32m     79\u001b[0m \n\u001b[0;32m   (...)\u001b[0m\n\u001b[1;32m     90\u001b[0m \u001b[39m           N is the number of cortical nodes\u001b[39;00m\n\u001b[1;32m     91\u001b[0m \u001b[39m    \"\"\"\u001b[39;00m\n\u001b[0;32m---> 92\u001b[0m     p1 \u001b[39m=\u001b[39m np\u001b[39m.\u001b[39;49meinsum(\u001b[39m'\u001b[39;49m\u001b[39mij,ij->i\u001b[39;49m\u001b[39m'\u001b[39;49m, a, a)[:, np\u001b[39m.\u001b[39mnewaxis]\n\u001b[1;32m     93\u001b[0m     p2 \u001b[39m=\u001b[39m np\u001b[39m.\u001b[39meinsum(\u001b[39m'\u001b[39m\u001b[39mij,ij->i\u001b[39m\u001b[39m'\u001b[39m, b, b)[:, np\u001b[39m.\u001b[39mnewaxis]\n\u001b[1;32m     94\u001b[0m     p3 \u001b[39m=\u001b[39m \u001b[39m-\u001b[39m\u001b[39m2\u001b[39m \u001b[39m*\u001b[39m np\u001b[39m.\u001b[39mdot(a, b\u001b[39m.\u001b[39mT)\n",
      "File \u001b[0;32m~/Documents/GitHub/Pontine7T/env/lib/python3.9/site-packages/numpy/core/einsumfunc.py:1371\u001b[0m, in \u001b[0;36meinsum\u001b[0;34m(out, optimize, *operands, **kwargs)\u001b[0m\n\u001b[1;32m   1369\u001b[0m     \u001b[39mif\u001b[39;00m specified_out:\n\u001b[1;32m   1370\u001b[0m         kwargs[\u001b[39m'\u001b[39m\u001b[39mout\u001b[39m\u001b[39m'\u001b[39m] \u001b[39m=\u001b[39m out\n\u001b[0;32m-> 1371\u001b[0m     \u001b[39mreturn\u001b[39;00m c_einsum(\u001b[39m*\u001b[39;49moperands, \u001b[39m*\u001b[39;49m\u001b[39m*\u001b[39;49mkwargs)\n\u001b[1;32m   1373\u001b[0m \u001b[39m# Check the kwargs to avoid a more cryptic error later, without having to\u001b[39;00m\n\u001b[1;32m   1374\u001b[0m \u001b[39m# repeat default values here\u001b[39;00m\n\u001b[1;32m   1375\u001b[0m valid_einsum_kwargs \u001b[39m=\u001b[39m [\u001b[39m'\u001b[39m\u001b[39mdtype\u001b[39m\u001b[39m'\u001b[39m, \u001b[39m'\u001b[39m\u001b[39morder\u001b[39m\u001b[39m'\u001b[39m, \u001b[39m'\u001b[39m\u001b[39mcasting\u001b[39m\u001b[39m'\u001b[39m]\n",
      "\u001b[0;31mValueError\u001b[0m: einstein sum subscripts string contains too many subscripts for operand 0"
     ]
    }
   ],
   "source": [
    "\n",
    "dcbc_values = compute_DCBC_np(maxDist=35, binWidth=1, parcellation=np.empty([]),\n",
    "                    func=None, dist=None, weighting=True)"
   ]
  },
  {
   "cell_type": "code",
   "execution_count": 51,
   "metadata": {},
   "outputs": [
    {
     "name": "stdout",
     "output_type": "stream",
     "text": [
      "[[-29. -29.   4.]\n",
      " [-29. -29.   5.]\n",
      " [-29. -29.   6.]\n",
      " ...\n",
      " [ 29. -18.   6.]\n",
      " [ 29. -18.   7.]\n",
      " [ 29. -18.   8.]]\n",
      "(25640, 25640)\n"
     ]
    }
   ],
   "source": [
    "atlas, _ = am.get_atlas('MNISymThalamus1')\n",
    "\n",
    "#print(np.isnan(atlas.world).sum())  # count of NaNs\n",
    "#print(atlas.world.min(), atlas.world.max()) \n",
    "\n",
    "\n",
    "coords = atlas.world.T\n",
    "\n",
    "print(coords)\n",
    "\n",
    "dist = ut.euclidean_distance(coords,coords,decimals=6)\n",
    "\n",
    "print(dist.shape)\n",
    "\n"
   ]
  },
  {
   "cell_type": "code",
   "execution_count": 52,
   "metadata": {},
   "outputs": [
    {
     "name": "stdout",
     "output_type": "stream",
     "text": [
      "[      nan       nan       nan ... 62.561969 62.545983 62.529993]\n",
      "Number of NaNs in dist: 137128484\n",
      "Proportion of NaNs: 0.208589\n"
     ]
    }
   ],
   "source": [
    "print(dist[6])\n",
    "\n",
    "n_nans = np.isnan(dist).sum()\n",
    "\n",
    "print(\"Number of NaNs in dist:\", n_nans)\n",
    "\n",
    "prop_nans = np.isnan(dist).mean()\n",
    "print(f\"Proportion of NaNs: {prop_nans:.6f}\")"
   ]
  }
 ],
 "metadata": {
  "kernelspec": {
   "display_name": "env",
   "language": "python",
   "name": "python3"
  },
  "language_info": {
   "codemirror_mode": {
    "name": "ipython",
    "version": 3
   },
   "file_extension": ".py",
   "mimetype": "text/x-python",
   "name": "python",
   "nbconvert_exporter": "python",
   "pygments_lexer": "ipython3",
   "version": "3.9.6"
  }
 },
 "nbformat": 4,
 "nbformat_minor": 2
}
