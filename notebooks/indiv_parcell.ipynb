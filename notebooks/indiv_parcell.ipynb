{
 "cells": [
  {
   "cell_type": "code",
   "execution_count": 10,
   "metadata": {},
   "outputs": [],
   "source": [
    "import numpy as np\n",
    "import torch as pt\n",
    "import nibabel as nb\n",
    "import nitools as nt\n",
    "import pandas as pd\n",
    "import glob \n",
    "import matplotlib.pyplot as plt\n",
    "import Functional_Fusion.atlas_map as am\n",
    "import Functional_Fusion.dataset as ds\n",
    "import HierarchBayesParcel.arrangements as ar\n",
    "import HierarchBayesParcel.emissions as em\n",
    "import HierarchBayesParcel.full_model as fm\n",
    "import HierarchBayesParcel.util as ut\n",
    "import SUITPy as suit\n",
    "import Functional_Fusion.plot as plot\n"
   ]
  },
  {
   "cell_type": "code",
   "execution_count": 7,
   "metadata": {},
   "outputs": [
    {
     "name": "stdout",
     "output_type": "stream",
     "text": [
      "(32, 25640)\n",
      "sum: [1.        1.        1.        ... 1.        1.        1.0000001]\n",
      "(16, 25640)\n",
      "sum combined: [0.99999994 1.0000001  1.         ... 1.0000001  0.9999999  1.0000001 ]\n"
     ]
    }
   ],
   "source": [
    "#loading probabilistic group atlas \n",
    "\n",
    "wk_dir = '/Volumes/diedrichsen_data$/data/Cerebellum/Pontine7T/atlases/thalamus'\n",
    "\n",
    "atlas, _ = am.get_atlas('MNISymThalamus1')\n",
    "\n",
    "atlas_fname = np.load(f\"{wk_dir}/Prob_thalamus.npy\")\n",
    "comb_hemispheres = atlas_fname[0:16] + atlas_fname[16:32]   \n",
    "\n",
    "print(atlas_fname.shape)\n",
    "\n",
    "print(\"sum:\", np.sum(atlas_fname, axis=0))\n",
    "\n",
    "print(comb_hemispheres.shape)\n",
    "\n",
    "print(\"sum combined:\", np.sum(comb_hemispheres, axis=0))\n"
   ]
  },
  {
   "cell_type": "code",
   "execution_count": 64,
   "metadata": {},
   "outputs": [
    {
     "name": "stderr",
     "output_type": "stream",
     "text": [
      "/Users/incehusain/Documents/GitHub/HierarchBayesParcel/HierarchBayesParcel/arrangements.py:1879: UserWarning: The marginal probability has 24481 voxels zero values - adding small value to avoid -inf\n",
      "  warnings.warn(f'The marginal probability has {zero_voxl} voxels'\n"
     ]
    }
   ],
   "source": [
    "\n",
    "#setting group probbilistic atlas as prior \n",
    "\n",
    "ar_model = ar.build_arrangement_model(atlas_fname, prior_type='prob', atlas=atlas)\n",
    "\n"
   ]
  },
  {
   "cell_type": "code",
   "execution_count": 515,
   "metadata": {},
   "outputs": [],
   "source": [
    "#creating flat prior \n",
    "\n",
    "K = ar_model.K\n",
    "P = atlas.P\n",
    "\n",
    "U_flat = np.ones((K, P)) / K    \n",
    "\n",
    "ar_model_flat = ar.build_arrangement_model(U_flat, prior_type='prob', atlas=atlas)\n"
   ]
  },
  {
   "cell_type": "code",
   "execution_count": 65,
   "metadata": {},
   "outputs": [],
   "source": [
    "\n",
    "#loading data \n",
    "#MDTB - {s}_space-{atlas.name}_ses-s1_CondRun.dscalar.nii\n",
    "#Language - {s}_space-{atlas.name}_ses-localizerfm_CondRun.dscalar.nii\n",
    "#MDTB-high-res - {s}_space-{atlas.name}_ses-s1_CondRun.dscalar.nii\n",
    "\n",
    "data_dir = '/Volumes/diedrichsen_data$/data/FunctionalFusion_new/Language'\n",
    "\n",
    "# Read the participant tsv file to get the name of the available subjects\n",
    "subj_info = pd.read_csv(f'{data_dir}/participants.tsv',sep='\\t')\n",
    "subj_info = subj_info[subj_info['participant_id'] != 'sub-12']\n",
    "\n",
    "\n",
    "data = []\n",
    "# Read the data for each subject\n",
    "for i, s in enumerate(subj_info['participant_id']):\n",
    "        file_name = f'{data_dir}/derivatives/ffextract/{s}/{s}_space-{atlas.name}_ses-localizerfm_CondRun.dscalar.nii'\n",
    "        datafile = nb.load(file_name)\n",
    "        data.append(datafile.get_fdata())\n",
    "# make the numsubj x numcond (16 repetitions x 9 conditions) x numvoxel tensor\n",
    "data = np.stack(data)\n",
    "data.shape\n",
    "\n",
    "np.save(f\"{wk_dir}/indiv_parcellations/Language/Language_data.npy\", data)\n"
   ]
  },
  {
   "cell_type": "code",
   "execution_count": 107,
   "metadata": {},
   "outputs": [
    {
     "data": {
      "text/plain": [
       "array([1, 1, 1, 1, 1, 1, 1, 1, 1, 1, 1, 1, 1, 1, 1, 1, 1, 1, 2, 2, 2, 2,\n",
       "       2, 2, 2, 2, 2, 2, 2, 2, 2, 2, 2, 2, 2, 2, 3, 3, 3, 3, 3, 3, 3, 3,\n",
       "       3, 3, 3, 3, 3, 3, 3, 3, 3, 3, 4, 4, 4, 4, 4, 4, 4, 4, 4, 4, 4, 4,\n",
       "       4, 4, 4, 4, 4, 4, 5, 5, 5, 5, 5, 5, 5, 5, 5, 5, 5, 5, 5, 5, 5, 5,\n",
       "       5, 5, 6, 6, 6, 6, 6, 6, 6, 6, 6, 6, 6, 6, 6, 6, 6, 6, 6, 6, 7, 7,\n",
       "       7, 7, 7, 7, 7, 7, 7, 7, 7, 7, 7, 7, 7, 7, 7, 7, 8, 8, 8, 8, 8, 8,\n",
       "       8, 8, 8, 8, 8, 8, 8, 8, 8, 8, 8, 8])"
      ]
     },
     "execution_count": 107,
     "metadata": {},
     "output_type": "execute_result"
    }
   ],
   "source": [
    "#info organization for emission model\n",
    "\n",
    "#MDTB - sub-02_ses-s1_CondRun.tsv (cond_name)\n",
    "#Language - sub-01_ses-localizerfm_CondRun.tsv (task_name)\n",
    "#MDTB-high-res - sub-01_ses-s1_CondRun.tsv (task_name)\n",
    "\n",
    "info = pd.read_csv(f'{data_dir}/derivatives/ffextract/sub-01/sub-01_ses-localizerfm_CondRun.tsv',sep='\\t')\n",
    "cond_v = info['task_name'].values #condition number\n",
    "part_v = info['run'].values #number of runs \n",
    "\n",
    "data = ds.remove_baseline(data,part_v) #for language, pontine \n",
    "\n",
    "part_v"
   ]
  },
  {
   "cell_type": "code",
   "execution_count": 108,
   "metadata": {},
   "outputs": [
    {
     "name": "stderr",
     "output_type": "stream",
     "text": [
      "/var/folders/91/7fqn4cp541g41hf5rkxmsnhh0000gn/T/ipykernel_96483/4289312248.py:13: FutureWarning: You are using `torch.load` with `weights_only=False` (the current default value), which uses the default pickle module implicitly. It is possible to construct malicious pickle data which will execute arbitrary code during unpickling (See https://github.com/pytorch/pytorch/blob/main/SECURITY.md#untrusted-models for more details). In a future release, the default value for `weights_only` will be flipped to `True`. This limits the functions that could be executed during unpickling. Arbitrary objects will no longer be allowed to be loaded via this mode unless they are explicitly allowlisted by the user via `torch.serialization.add_safe_globals`. We recommend you start setting `weights_only=True` for any use case where you don't have full control of the loaded file. Please open an issue on GitHub for any issues related to this experimental feature.\n",
      "  em_model.V = pt.load(f\"{wk_dir}/V_cerebcortex_Language.pt\")\n"
     ]
    },
    {
     "ename": "KeyboardInterrupt",
     "evalue": "",
     "output_type": "error",
     "traceback": [
      "\u001b[0;31m---------------------------------------------------------------------------\u001b[0m",
      "\u001b[0;31mKeyboardInterrupt\u001b[0m                         Traceback (most recent call last)",
      "\u001b[1;32m/Users/incehusain/Documents/GitHub/Pontine7T/notebooks/indiv_parcell.ipynb Cell 7\u001b[0m line \u001b[0;36m2\n\u001b[1;32m     <a href='vscode-notebook-cell:/Users/incehusain/Documents/GitHub/Pontine7T/notebooks/indiv_parcell.ipynb#W6sZmlsZQ%3D%3D?line=22'>23</a>\u001b[0m M\u001b[39m.\u001b[39minitialize([data])\n\u001b[1;32m     <a href='vscode-notebook-cell:/Users/incehusain/Documents/GitHub/Pontine7T/notebooks/indiv_parcell.ipynb#W6sZmlsZQ%3D%3D?line=24'>25</a>\u001b[0m \u001b[39m# Now we can run the EM algorithm\u001b[39;00m\n\u001b[0;32m---> <a href='vscode-notebook-cell:/Users/incehusain/Documents/GitHub/Pontine7T/notebooks/indiv_parcell.ipynb#W6sZmlsZQ%3D%3D?line=25'>26</a>\u001b[0m M, _, _, _ \u001b[39m=\u001b[39m M\u001b[39m.\u001b[39mfit_em(\u001b[39miter\u001b[39m\u001b[39m=\u001b[39m\u001b[39m200\u001b[39m, tol\u001b[39m=\u001b[39m\u001b[39m0.01\u001b[39m,\n\u001b[1;32m     <a href='vscode-notebook-cell:/Users/incehusain/Documents/GitHub/Pontine7T/notebooks/indiv_parcell.ipynb#W6sZmlsZQ%3D%3D?line=26'>27</a>\u001b[0m     fit_arrangement\u001b[39m=\u001b[39m\u001b[39mFalse\u001b[39;00m,fit_emission\u001b[39m=\u001b[39m\u001b[39mTrue\u001b[39;00m,first_evidence\u001b[39m=\u001b[39m\u001b[39mFalse\u001b[39;00m)\n\u001b[1;32m     <a href='vscode-notebook-cell:/Users/incehusain/Documents/GitHub/Pontine7T/notebooks/indiv_parcell.ipynb#W6sZmlsZQ%3D%3D?line=29'>30</a>\u001b[0m \u001b[39m#for data-driven parcellations:  # Run E-step\u001b[39;00m\n\u001b[1;32m     <a href='vscode-notebook-cell:/Users/incehusain/Documents/GitHub/Pontine7T/notebooks/indiv_parcell.ipynb#W6sZmlsZQ%3D%3D?line=31'>32</a>\u001b[0m emloglik \u001b[39m=\u001b[39m M\u001b[39m.\u001b[39memissions[\u001b[39m0\u001b[39m]\u001b[39m.\u001b[39mEstep()\n",
      "\u001b[1;32m/Users/incehusain/Documents/GitHub/Pontine7T/notebooks/indiv_parcell.ipynb Cell 7\u001b[0m line \u001b[0;36m2\n\u001b[1;32m     <a href='vscode-notebook-cell:/Users/incehusain/Documents/GitHub/Pontine7T/notebooks/indiv_parcell.ipynb#W6sZmlsZQ%3D%3D?line=22'>23</a>\u001b[0m M\u001b[39m.\u001b[39minitialize([data])\n\u001b[1;32m     <a href='vscode-notebook-cell:/Users/incehusain/Documents/GitHub/Pontine7T/notebooks/indiv_parcell.ipynb#W6sZmlsZQ%3D%3D?line=24'>25</a>\u001b[0m \u001b[39m# Now we can run the EM algorithm\u001b[39;00m\n\u001b[0;32m---> <a href='vscode-notebook-cell:/Users/incehusain/Documents/GitHub/Pontine7T/notebooks/indiv_parcell.ipynb#W6sZmlsZQ%3D%3D?line=25'>26</a>\u001b[0m M, _, _, _ \u001b[39m=\u001b[39m M\u001b[39m.\u001b[39mfit_em(\u001b[39miter\u001b[39m\u001b[39m=\u001b[39m\u001b[39m200\u001b[39m, tol\u001b[39m=\u001b[39m\u001b[39m0.01\u001b[39m,\n\u001b[1;32m     <a href='vscode-notebook-cell:/Users/incehusain/Documents/GitHub/Pontine7T/notebooks/indiv_parcell.ipynb#W6sZmlsZQ%3D%3D?line=26'>27</a>\u001b[0m     fit_arrangement\u001b[39m=\u001b[39m\u001b[39mFalse\u001b[39;00m,fit_emission\u001b[39m=\u001b[39m\u001b[39mTrue\u001b[39;00m,first_evidence\u001b[39m=\u001b[39m\u001b[39mFalse\u001b[39;00m)\n\u001b[1;32m     <a href='vscode-notebook-cell:/Users/incehusain/Documents/GitHub/Pontine7T/notebooks/indiv_parcell.ipynb#W6sZmlsZQ%3D%3D?line=29'>30</a>\u001b[0m \u001b[39m#for data-driven parcellations:  # Run E-step\u001b[39;00m\n\u001b[1;32m     <a href='vscode-notebook-cell:/Users/incehusain/Documents/GitHub/Pontine7T/notebooks/indiv_parcell.ipynb#W6sZmlsZQ%3D%3D?line=31'>32</a>\u001b[0m emloglik \u001b[39m=\u001b[39m M\u001b[39m.\u001b[39memissions[\u001b[39m0\u001b[39m]\u001b[39m.\u001b[39mEstep()\n",
      "File \u001b[0;32m~/Documents/GitHub/Pontine7T/env/lib/python3.9/site-packages/debugpy/_vendored/pydevd/_pydevd_bundle/pydevd_frame.py:988\u001b[0m, in \u001b[0;36mPyDBFrame.trace_dispatch\u001b[0;34m(self, frame, event, arg)\u001b[0m\n\u001b[1;32m    986\u001b[0m \u001b[39m# if thread has a suspend flag, we suspend with a busy wait\u001b[39;00m\n\u001b[1;32m    987\u001b[0m \u001b[39mif\u001b[39;00m info\u001b[39m.\u001b[39mpydev_state \u001b[39m==\u001b[39m STATE_SUSPEND:\n\u001b[0;32m--> 988\u001b[0m     \u001b[39mself\u001b[39;49m\u001b[39m.\u001b[39;49mdo_wait_suspend(thread, frame, event, arg)\n\u001b[1;32m    989\u001b[0m     \u001b[39mreturn\u001b[39;00m \u001b[39mself\u001b[39m\u001b[39m.\u001b[39mtrace_dispatch\n\u001b[1;32m    990\u001b[0m \u001b[39melse\u001b[39;00m:\n",
      "File \u001b[0;32m~/Documents/GitHub/Pontine7T/env/lib/python3.9/site-packages/debugpy/_vendored/pydevd/_pydevd_bundle/pydevd_frame.py:165\u001b[0m, in \u001b[0;36mPyDBFrame.do_wait_suspend\u001b[0;34m(self, *args, **kwargs)\u001b[0m\n\u001b[1;32m    164\u001b[0m \u001b[39mdef\u001b[39;00m \u001b[39mdo_wait_suspend\u001b[39m(\u001b[39mself\u001b[39m, \u001b[39m*\u001b[39margs, \u001b[39m*\u001b[39m\u001b[39m*\u001b[39mkwargs):\n\u001b[0;32m--> 165\u001b[0m     \u001b[39mself\u001b[39;49m\u001b[39m.\u001b[39;49m_args[\u001b[39m0\u001b[39;49m]\u001b[39m.\u001b[39;49mdo_wait_suspend(\u001b[39m*\u001b[39;49margs, \u001b[39m*\u001b[39;49m\u001b[39m*\u001b[39;49mkwargs)\n",
      "File \u001b[0;32m~/Documents/GitHub/Pontine7T/env/lib/python3.9/site-packages/debugpy/_vendored/pydevd/pydevd.py:2070\u001b[0m, in \u001b[0;36mPyDB.do_wait_suspend\u001b[0;34m(self, thread, frame, event, arg, exception_type)\u001b[0m\n\u001b[1;32m   2067\u001b[0m             from_this_thread\u001b[39m.\u001b[39mappend(frame_custom_thread_id)\n\u001b[1;32m   2069\u001b[0m     \u001b[39mwith\u001b[39;00m \u001b[39mself\u001b[39m\u001b[39m.\u001b[39m_threads_suspended_single_notification\u001b[39m.\u001b[39mnotify_thread_suspended(thread_id, thread, stop_reason):\n\u001b[0;32m-> 2070\u001b[0m         keep_suspended \u001b[39m=\u001b[39m \u001b[39mself\u001b[39;49m\u001b[39m.\u001b[39;49m_do_wait_suspend(thread, frame, event, arg, suspend_type, from_this_thread, frames_tracker)\n\u001b[1;32m   2072\u001b[0m frames_list \u001b[39m=\u001b[39m \u001b[39mNone\u001b[39;00m\n\u001b[1;32m   2074\u001b[0m \u001b[39mif\u001b[39;00m keep_suspended:\n\u001b[1;32m   2075\u001b[0m     \u001b[39m# This means that we should pause again after a set next statement.\u001b[39;00m\n",
      "File \u001b[0;32m~/Documents/GitHub/Pontine7T/env/lib/python3.9/site-packages/debugpy/_vendored/pydevd/pydevd.py:2106\u001b[0m, in \u001b[0;36mPyDB._do_wait_suspend\u001b[0;34m(self, thread, frame, event, arg, suspend_type, from_this_thread, frames_tracker)\u001b[0m\n\u001b[1;32m   2103\u001b[0m         \u001b[39mself\u001b[39m\u001b[39m.\u001b[39m_call_input_hook()\n\u001b[1;32m   2105\u001b[0m     \u001b[39mself\u001b[39m\u001b[39m.\u001b[39mprocess_internal_commands()\n\u001b[0;32m-> 2106\u001b[0m     time\u001b[39m.\u001b[39;49msleep(\u001b[39m0.01\u001b[39;49m)\n\u001b[1;32m   2108\u001b[0m \u001b[39mself\u001b[39m\u001b[39m.\u001b[39mcancel_async_evaluation(get_current_thread_id(thread), \u001b[39mstr\u001b[39m(\u001b[39mid\u001b[39m(frame)))\n\u001b[1;32m   2110\u001b[0m \u001b[39m# process any stepping instructions\u001b[39;00m\n",
      "\u001b[0;31mKeyboardInterrupt\u001b[0m: "
     ]
    }
   ],
   "source": [
    "#data only parcellation \n",
    "\n",
    "#building individual parcellations \n",
    "\n",
    "K = ar_model.K\n",
    "\n",
    "# Make a design matrix\n",
    "X= ut.indicator(cond_v)\n",
    "\n",
    "# Build an emission model\n",
    "em_model = em.MixVMF(K=K,P=atlas.P, X=X,part_vec=part_v)\n",
    "\n",
    "em_model.V = pt.load(f\"{wk_dir}/V_cerebcortex_Language.pt\")\n",
    "\n",
    "em_model.set_param_list(['kappa'])\n",
    "\n",
    "# Build the full model: The emission models are passed as a list, as usually we have multiple data sets\n",
    "M = fm.FullMultiModel(ar_model, [em_model])\n",
    "\n",
    "# Attach the data to the model - this is done for speed\n",
    "# The data is passed as a list with on element per data set\n",
    "\n",
    "M.initialize([data])\n",
    "\n",
    "# Now we can run the EM algorithm\n",
    "M, _, _, _ = M.fit_em(iter=200, tol=0.01,\n",
    "    fit_arrangement=False,fit_emission=True,first_evidence=False)\n",
    "\n",
    "\n",
    "#for data-driven parcellations:  # Run E-step\n",
    "\n",
    "emloglik = M.emissions[0].Estep()\n",
    "U_indiv_data_only = pt.softmax(emloglik, dim=1)\n",
    "U_indiv_group, _ = M.arrange.Estep(emloglik)    \n",
    "\n",
    "#for new subjects added to dataset later \n",
    "M.initialize([data])\n",
    "U_indiv_group,_ = M.Estep()\n",
    "\n",
    "\n"
   ]
  },
  {
   "cell_type": "code",
   "execution_count": 82,
   "metadata": {},
   "outputs": [
    {
     "name": "stdout",
     "output_type": "stream",
     "text": [
      "data only torch.Size([16, 32, 25640])\n",
      "group torch.Size([16, 32, 25640])\n"
     ]
    }
   ],
   "source": [
    "print(\"data only\", U_indiv_data_only.shape)\n",
    "\n",
    "print(\"group\", U_indiv_group.shape)"
   ]
  },
  {
   "cell_type": "code",
   "execution_count": 518,
   "metadata": {},
   "outputs": [
    {
     "name": "stderr",
     "output_type": "stream",
     "text": [
      "/var/folders/91/7fqn4cp541g41hf5rkxmsnhh0000gn/T/ipykernel_17116/3034990284.py:11: FutureWarning: You are using `torch.load` with `weights_only=False` (the current default value), which uses the default pickle module implicitly. It is possible to construct malicious pickle data which will execute arbitrary code during unpickling (See https://github.com/pytorch/pytorch/blob/main/SECURITY.md#untrusted-models for more details). In a future release, the default value for `weights_only` will be flipped to `True`. This limits the functions that could be executed during unpickling. Arbitrary objects will no longer be allowed to be loaded via this mode unless they are explicitly allowlisted by the user via `torch.serialization.add_safe_globals`. We recommend you start setting `weights_only=True` for any use case where you don't have full control of the loaded file. Please open an issue on GitHub for any issues related to this experimental feature.\n",
      "  em_model.V = pt.load(f\"{wk_dir}/V_cerebcortex_Pontine.pt\")\n"
     ]
    }
   ],
   "source": [
    "#building individual parcellations with group \n",
    "\n",
    "K = ar_model.K\n",
    "\n",
    "# Make a design matrix\n",
    "X= ut.indicator(cond_v)\n",
    "\n",
    "# Build an emission model\n",
    "em_model = em.MixVMF(K=K,P=atlas.P, X=X,part_vec=part_v)\n",
    "\n",
    "em_model.V = pt.load(f\"{wk_dir}/V_cerebcortex_Pontine.pt\")\n",
    "\n",
    "em_model.set_param_list(['kappa'])\n",
    "\n",
    "# Build the full model: The emission models are passed as a list, as usually we have multiple data sets\n",
    "M = fm.FullMultiModel(ar_model, [em_model])\n",
    "\n",
    "# Attach the data to the model - this is done for speed\n",
    "# The data is passed as a list with on element per data set\n",
    "\n",
    "M.initialize([data])\n",
    "\n",
    "# Now we can run the EM algorithm\n",
    "M, _, _, _ = M.fit_em(iter=200, tol=0.01,\n",
    "    fit_arrangement=False,fit_emission=True,first_evidence=False)\n",
    "\n"
   ]
  },
  {
   "cell_type": "code",
   "execution_count": 519,
   "metadata": {},
   "outputs": [
    {
     "name": "stdout",
     "output_type": "stream",
     "text": [
      "torch.Size([17, 32, 25640])\n"
     ]
    }
   ],
   "source": [
    "#storing individual parcellations\n",
    "\n",
    "U_indiv,_ = M.Estep()\n",
    "print(U_indiv.shape)"
   ]
  },
  {
   "cell_type": "code",
   "execution_count": 68,
   "metadata": {},
   "outputs": [],
   "source": [
    "\n",
    "#saving each individual parcellation as numpy file\n",
    "\n",
    "subj_info = pd.read_csv(f\"{data_dir}/participants.tsv\", sep=\"\\t\")\n",
    "subj_info = subj_info[subj_info['participant_id'] != 'sub-12'].reset_index(drop=True)\n",
    "\n",
    "subjects = subj_info[\"participant_id\"].tolist()\n",
    "\n",
    "for y, subj in enumerate(subjects):\n",
    "    np.save(f\"{wk_dir}/indiv_parcellations/Language_data_only/{subj}.npy\",U_indiv_data_only[y])  \n"
   ]
  },
  {
   "cell_type": "code",
   "execution_count": 15,
   "metadata": {},
   "outputs": [
    {
     "name": "stdout",
     "output_type": "stream",
     "text": [
      "Shape: (17, 25640)\n"
     ]
    }
   ],
   "source": [
    "#saving compiled hard parcellations \n",
    "\n",
    "files = sorted(glob.glob(f\"{wk_dir}/indiv_parcellations/mdtb(high-res)/*.npy\"))\n",
    "\n",
    "all_parcels = []\n",
    "\n",
    "for f in files:\n",
    "    U = np.load(f)  # shape (K, P)\n",
    "    labels = np.argmax(U, axis=0) + 1  # shape (P,) – assign each voxel to the max-prob parcel\n",
    "    all_parcels.append(labels)\n",
    "\n",
    "# Stack into (num_subjects, P)\n",
    "all_parcels = np.stack(all_parcels, axis=0)\n",
    "\n",
    "print(\"Shape:\", all_parcels.shape)  # (num_subjects, P)\n",
    "\n",
    "# Save for use in calc_test_dcbc\n",
    "np.save(f\"{wk_dir}/indiv_parcellations/mdtb(high-res)/all_indiv_parcels.npy\", all_parcels)\n"
   ]
  },
  {
   "cell_type": "code",
   "execution_count": 105,
   "metadata": {},
   "outputs": [],
   "source": [
    "pmap = np.load(f\"{wk_dir}/indiv_parcellations/MDTB_ses1_data_only/sub-06.npy\")\n",
    "pmap2 = np.load(f\"{wk_dir}/indiv_parcellations/MDTB-ses1_flat_prior/sub-06.npy\")\n",
    "\n",
    "wta = np.argmax(pmap, axis=0) + 1\n",
    "wta2 = np.argmax(pmap2, axis=0) + 1\n"
   ]
  },
  {
   "cell_type": "code",
   "execution_count": 92,
   "metadata": {},
   "outputs": [
    {
     "name": "stdout",
     "output_type": "stream",
     "text": [
      "pmap [0.26255837 0.2884572  0.26526812 ... 0.10366436 0.02973288 0.02700445]\n",
      "group tensor([0.2626, 0.2885, 0.2653,  ..., 0.1037, 0.0297, 0.0270])\n"
     ]
    }
   ],
   "source": [
    "pmap = np.load(f\"{wk_dir}/indiv_parcellations/Language/sub-02.npy\")\n",
    "\n",
    "print(\"pmap\", pmap[0])\n",
    "\n",
    "print(\"group\", U_indiv_group[1][0])\n"
   ]
  },
  {
   "cell_type": "code",
   "execution_count": 106,
   "metadata": {},
   "outputs": [
    {
     "name": "stdout",
     "output_type": "stream",
     "text": [
      "one [0.04213337 0.04585287 0.04601848 ... 0.0166477  0.01795128 0.02235507]\n",
      "two [0.0596413  0.08815109 0.09033716 ... 0.00184303 0.00263037 0.00665875]\n",
      "same? False\n",
      "wta 8\n",
      "wta2 8\n"
     ]
    },
    {
     "data": {
      "text/plain": [
       "True"
      ]
     },
     "execution_count": 106,
     "metadata": {},
     "output_type": "execute_result"
    }
   ],
   "source": [
    "print(\"one\", pmap[0])\n",
    "\n",
    "print(\"two\", pmap2[0])\n",
    "\n",
    "print(\"same?\", np.array_equal(pmap, pmap2))\n",
    "\n",
    "print(\"wta\", wta[0])\n",
    "\n",
    "print(\"wta2\", wta2[0])\n",
    "\n",
    "np.array_equal(wta, wta2)"
   ]
  },
  {
   "cell_type": "code",
   "execution_count": 31,
   "metadata": {},
   "outputs": [
    {
     "data": {
      "image/png": "[encoded data removed]",
      "text/plain": [
       "<Figure size 800x1400 with 14 Axes>"
      ]
     },
     "metadata": {},
     "output_type": "display_data"
    }
   ],
   "source": [
    "#visualizing individual parcellations\n",
    "\n",
    "lid,cmap,names = nt.read_lut('/Volumes/diedrichsen_data$/data/FunctionalFusion_new/Atlases/tpl-MNI152NLin2009cSymC/atl-NettekovenSym32.lut')\n",
    "\n",
    "pmap = np.load(f\"{wk_dir}/indiv_parcellations/MDTB_ses1_data_only/16_parcel_runwise_maps/sub31-run16.npy\")\n",
    "\n",
    "#comb_hem = pmap[0:16] + pmap[16:32]   \n",
    "\n",
    "wta = np.argmax(pmap, axis=0) + 1\n",
    "\n",
    "wta_int32 = wta.astype(np.int32)\n",
    "\n",
    "thalamus_parcellation = plot.plot_thalamus(wta_int32, bg_img= None, z_coords = [-7, -5, -3, 1,8, 12, 15], cscale=[0,32], cmap=cmap)\n"
   ]
  },
  {
   "cell_type": "code",
   "execution_count": 41,
   "metadata": {},
   "outputs": [
    {
     "data": {
      "image/png": "[encoded data removed]",
      "text/plain": [
       "<Figure size 800x1200 with 12 Axes>"
      ]
     },
     "metadata": {},
     "output_type": "display_data"
    }
   ],
   "source": [
    "#visualizing individual parcellations\n",
    "\n",
    "wk_dir = '/Volumes/diedrichsen_data$/data/Cerebellum/Pontine7T/atlases/olive'\n",
    "\n",
    "lid,cmap,names = nt.read_lut('/Volumes/diedrichsen_data$/data/FunctionalFusion_new/Atlases/tpl-MNI152NLin2009cSymC/atl-NettekovenSym32.lut')\n",
    "\n",
    "pmap = np.load(f\"{wk_dir}/Prob_olive_mdtb(ses2).npy\")\n",
    "\n",
    "#comb_hem = pmap[0:16] + pmap[16:32]   \n",
    "\n",
    "wta = np.argmax(pmap, axis=0) + 1\n",
    "\n",
    "wta_int32 = wta.astype(np.int32)\n",
    "\n",
    "\n",
    "olive_parcellation = plot.plot_olive(wta_int32, bg_img=None, x_coords = [8, 6, 3, -3, -6,  -8], cscale=[0,32], cmap=cmap)\n"
   ]
  }
 ],
 "metadata": {
  "kernelspec": {
   "display_name": "env",
   "language": "python",
   "name": "python3"
  },
  "language_info": {
   "codemirror_mode": {
    "name": "ipython",
    "version": 3
   },
   "file_extension": ".py",
   "mimetype": "text/x-python",
   "name": "python",
   "nbconvert_exporter": "python",
   "pygments_lexer": "ipython3",
   "version": "3.9.6"
  }
 },
 "nbformat": 4,
 "nbformat_minor": 2
}
