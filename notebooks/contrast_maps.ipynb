{
 "cells": [
  {
   "cell_type": "code",
   "execution_count": null,
   "metadata": {},
   "outputs": [],
   "source": []
  },
  {
   "cell_type": "code",
   "execution_count": null,
   "metadata": {},
   "outputs": [],
   "source": [
    "from scripts import decomposing_variances\n",
    "\n",
    "contrast = decomposing_variances.make_contrast_vectors()\n",
    "\n",
    "print(contrast[0])\n",
    "\n",
    "\n",
    "decomposing_variances.group_analysis(contrast[0],contrast[1])"
   ]
  }
 ],
 "metadata": {
  "language_info": {
   "name": "python"
  }
 },
 "nbformat": 4,
 "nbformat_minor": 2
}
