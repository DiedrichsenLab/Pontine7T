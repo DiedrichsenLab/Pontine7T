{
 "cells": [
  {
   "cell_type": "code",
   "execution_count": 1,
   "metadata": {},
   "outputs": [
    {
     "ename": "ModuleNotFoundError",
     "evalue": "No module named 'nibable'",
     "output_type": "error",
     "traceback": [
      "\u001b[0;31m---------------------------------------------------------------------------\u001b[0m",
      "\u001b[0;31mModuleNotFoundError\u001b[0m                       Traceback (most recent call last)",
      "\u001b[0;32m/var/folders/sz/7lqgfrln5738xc_hktty2sb00000gp/T/ipykernel_2500/4111190489.py\u001b[0m in \u001b[0;36m<module>\u001b[0;34m\u001b[0m\n\u001b[1;32m      1\u001b[0m \u001b[0;31m# import Functional_Fusion.dataset as ds\u001b[0m\u001b[0;34m\u001b[0m\u001b[0;34m\u001b[0m\u001b[0;34m\u001b[0m\u001b[0m\n\u001b[0;32m----> 2\u001b[0;31m \u001b[0;32mimport\u001b[0m \u001b[0mnibable\u001b[0m \u001b[0;32mas\u001b[0m \u001b[0mnb\u001b[0m\u001b[0;34m\u001b[0m\u001b[0;34m\u001b[0m\u001b[0m\n\u001b[0m\u001b[1;32m      3\u001b[0m \u001b[0;32mimport\u001b[0m \u001b[0mnumpy\u001b[0m \u001b[0;32mas\u001b[0m \u001b[0mnp\u001b[0m\u001b[0;34m\u001b[0m\u001b[0;34m\u001b[0m\u001b[0m\n",
      "\u001b[0;31mModuleNotFoundError\u001b[0m: No module named 'nibable'"
     ]
    }
   ],
   "source": [
    "# import Functional_Fusion.dataset as ds\n",
    "import nibable as nb\n",
    "import numpy as np\n"
   ]
  },
  {
   "cell_type": "code",
   "execution_count": null,
   "metadata": {},
   "outputs": [],
   "source": [
    "\n",
    "def get_data(structure = 'dentate'):\n",
    "    T = pd.lread_csv('praticipants.tsv')\n",
    "    A= []\n",
    "    for i in T.subj_id\n",
    "        cifti = nb.load('data/group/beta_glm_{structure}_{i}.dscalar.nii')\n",
    "        A.append(cifti.get_data())\n",
    "    # Concatinate in to tensor (Subj x N x P )\n",
    "        \n"
   ]
  },
  {
   "cell_type": "code",
   "execution_count": 2,
   "metadata": {},
   "outputs": [],
   "source": [
    "# Write a function that transforms \n",
    "# Nsubj x (M*R) x P\n",
    "# To\n",
    "# Nsubj x M x R x P tensor \n",
    "\n",
    "# M : number of coniditons \n",
    "# R : number of repetitions \n",
    "# N = M *R \n",
    "# Base this on a part_vec and a cond_vec\n",
    "\n",
    "def rearrange_cond_rep_tensor(Data,part_vec,cond_vec):\n",
    "    \"\"\"rearrangss \n",
    "\n",
    "    Args:\n",
    "        Data (_type_): Nsubj x (N*R) x P tensor\n",
    "        part_vec (_type_): (N*R), vectors of partitions\n",
    "        cond_vec (_type_): (N*R) vector \n",
    "    \"\"\"\n"
   ]
  },
  {
   "cell_type": "code",
   "execution_count": null,
   "metadata": {},
   "outputs": [],
   "source": [
    "get_data()\n",
    "rearrange_cond_rep_tensor(Data,part_vec,cond_vec)\n",
    "ds.decompose_pattern_into_group_indiv_noise(Data,part_vec,cond_vec)\n"
   ]
  }
 ],
 "metadata": {
  "kernelspec": {
   "display_name": "base",
   "language": "python",
   "name": "python3"
  },
  "language_info": {
   "codemirror_mode": {
    "name": "ipython",
    "version": 3
   },
   "file_extension": ".py",
   "mimetype": "text/x-python",
   "name": "python",
   "nbconvert_exporter": "python",
   "pygments_lexer": "ipython3",
   "version": "3.8.5"
  }
 },
 "nbformat": 4,
 "nbformat_minor": 2
}
