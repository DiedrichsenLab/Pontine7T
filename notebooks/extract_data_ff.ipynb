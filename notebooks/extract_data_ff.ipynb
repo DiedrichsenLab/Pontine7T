{
 "cells": [
  {
   "cell_type": "code",
   "execution_count": 16,
   "metadata": {},
   "outputs": [
    {
     "name": "stdout",
     "output_type": "stream",
     "text": [
      "Found 240 files\n",
      "✅ All files renamed successfully!\n"
     ]
    }
   ],
   "source": [
    "import os\n",
    "import glob\n",
    "\n",
    "subject = 'sub-98'\n",
    "source_dir = f'/Volumes/diedrichsen_data$/data/FunctionalFusion_new/Pontine/derivatives/ffimport/{subject}/func/ses-s1-physio'\n",
    "\n",
    "# Get all matching files and sort them in order\n",
    "files = sorted(glob.glob(f'{source_dir}/{subject}_ses-s1-physio_run-_*.nii'))\n",
    "\n",
    "# Check total file count\n",
    "print(f\"Found {len(files)} files\")\n",
    "\n",
    "# Number of files per run\n",
    "files_per_run = 15\n",
    "\n",
    "# Loop through all files\n",
    "for idx, file in enumerate(files):\n",
    "    # Determine run index and reg index\n",
    "    run_idx = idx // files_per_run + 1   # 1–16\n",
    "    reg_idx = idx % files_per_run        # 0–14\n",
    "\n",
    "    # Format with leading zeros\n",
    "    run_str = f'{run_idx:02d}'\n",
    "    reg_str = f'{reg_idx:02d}'\n",
    "\n",
    "    # Construct new filename\n",
    "    new_name = f'{subject}_ses-s1_run-{run_str}_reg-{reg_str}_beta.nii'\n",
    "    new_path = os.path.join(source_dir, new_name)\n",
    "\n",
    "    # Rename file\n",
    "    os.rename(file, new_path)\n",
    "\n",
    "print(\"✅ All files renamed successfully!\")\n"
   ]
  },
  {
   "cell_type": "code",
   "execution_count": null,
   "metadata": {},
   "outputs": [],
   "source": [
    "# Load the .mat file\n",
    "\n",
    "import scipy.io as sio\n",
    "import numpy as np \n",
    "\n",
    "subj = 'sub-01'\n",
    "\n",
    "subj_dir = f'/Volumes/diedrichsen_data$/data/FunctionalFusion/Pontine7T/derivatives/{subj}/estimates/ses-s1'\n",
    "mat_data = sio.loadmat(f'{subj_dir}/nKX_data.mat')\n",
    "\n",
    "# Save as .npy file\n",
    "np.save(f'{subj_dir}/{subj}_ses-s1_designmatrix.npy', mat_data)\n",
    "\n",
    "\n"
   ]
  },
  {
   "cell_type": "code",
   "execution_count": null,
   "metadata": {},
   "outputs": [],
   "source": [
    "A = np.load(f'{subj_dir}/{subj}_ses-s1_designmatrix.npy', allow_pickle=True).item()\n",
    "\n",
    "print(A['nKX'])"
   ]
  },
  {
   "cell_type": "code",
   "execution_count": 30,
   "metadata": {},
   "outputs": [],
   "source": [
    "import Functional_Fusion.import_data as imp \n",
    "\n",
    "subj = 'sub-98'\n",
    "\n",
    "source_dir = f'/Volumes/diedrichsen_data$/data/FunctionalFusion_new/Pontine/derivatives/ffimport/{subj}/func/ses-s1-physio'\n",
    "\n",
    "\n",
    "imp.import_spm_designmatrix(source_dir, source_dir, sub_id=subj,sess_id='ses-s1-physio')\n"
   ]
  }
 ],
 "metadata": {
  "kernelspec": {
   "display_name": "env",
   "language": "python",
   "name": "python3"
  },
  "language_info": {
   "codemirror_mode": {
    "name": "ipython",
    "version": 3
   },
   "file_extension": ".py",
   "mimetype": "text/x-python",
   "name": "python",
   "nbconvert_exporter": "python",
   "pygments_lexer": "ipython3",
   "version": "3.9.6"
  }
 },
 "nbformat": 4,
 "nbformat_minor": 2
}
